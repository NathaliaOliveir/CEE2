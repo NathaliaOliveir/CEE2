{
  "nbformat": 4,
  "nbformat_minor": 0,
  "metadata": {
    "colab": {
      "provenance": [],
      "authorship_tag": "ABX9TyMNrY/LFhyFvZg+Eo4g+opC",
      "include_colab_link": true
    },
    "kernelspec": {
      "name": "python3",
      "display_name": "Python 3"
    },
    "language_info": {
      "name": "python"
    }
  },
  "cells": [
    {
      "cell_type": "markdown",
      "metadata": {
        "id": "view-in-github",
        "colab_type": "text"
      },
      "source": [
        "<a href=\"https://colab.research.google.com/github/NathaliaOliveir/CEE2/blob/main/Untitled0.ipynb\" target=\"_parent\"><img src=\"https://colab.research.google.com/assets/colab-badge.svg\" alt=\"Open In Colab\"/></a>"
      ]
    },
    {
      "cell_type": "markdown",
      "source": [
        "Esse é um código que soma a + b"
      ],
      "metadata": {
        "id": "vJIoeo9sP1SX"
      }
    },
    {
      "cell_type": "code",
      "execution_count": null,
      "metadata": {
        "colab": {
          "base_uri": "https://localhost:8080/"
        },
        "id": "drCdq9fEPZfn",
        "outputId": "d2d8fe7c-dd5c-42f9-f5b6-a04ffbde423d"
      },
      "outputs": [
        {
          "output_type": "execute_result",
          "data": {
            "text/plain": [
              "15"
            ]
          },
          "metadata": {},
          "execution_count": 1
        }
      ],
      "source": [
        "a= 5\n",
        "b=10\n",
        "a+b"
      ]
    },
    {
      "cell_type": "markdown",
      "source": [],
      "metadata": {
        "id": "6SeZr4PwPx8q"
      }
    },
    {
      "cell_type": "code",
      "source": [
        "# Operações matemáticas\n"
      ],
      "metadata": {
        "id": "7O2cBNznPmg2"
      },
      "execution_count": null,
      "outputs": []
    },
    {
      "cell_type": "markdown",
      "source": [
        "##soma\n"
      ],
      "metadata": {
        "id": "BMbAQjmtP_cT"
      }
    },
    {
      "cell_type": "code",
      "source": [],
      "metadata": {
        "id": "grwdMSySQTz9"
      },
      "execution_count": null,
      "outputs": []
    }
  ]
}