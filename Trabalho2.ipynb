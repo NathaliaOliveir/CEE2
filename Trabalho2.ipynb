{
  "nbformat": 4,
  "nbformat_minor": 0,
  "metadata": {
    "colab": {
      "provenance": [],
      "include_colab_link": true
    },
    "kernelspec": {
      "name": "python3",
      "display_name": "Python 3"
    },
    "language_info": {
      "name": "python"
    }
  },
  "cells": [
    {
      "cell_type": "markdown",
      "metadata": {
        "id": "view-in-github",
        "colab_type": "text"
      },
      "source": [
        "<a href=\"https://colab.research.google.com/github/NathaliaOliveir/CEE2/blob/main/Trabalho2.ipynb\" target=\"_parent\"><img src=\"https://colab.research.google.com/assets/colab-badge.svg\" alt=\"Open In Colab\"/></a>"
      ]
    },
    {
      "cell_type": "code",
      "source": [
        "# importando pacotes necessarios\n",
        "import pandas as pd"
      ],
      "metadata": {
        "id": "bSDbh0JFCfl7"
      },
      "execution_count": 1,
      "outputs": []
    },
    {
      "cell_type": "markdown",
      "source": [
        "1. Leitura dos Dados\n",
        "\n",
        "* Carregue o arquivo csv de Nova York\n",
        "* Exiba as primeiras linhas da tabela e realize uma análise exploratória inicial das variáveis"
      ],
      "metadata": {
        "id": "Y-2DXNMI7q2v"
      }
    },
    {
      "cell_type": "code",
      "source": [
        "sheet_id = \"1Oo13tTacvO_TFlFn5BJBfy1zu0B8W3IWgnapAABrdwY\"\n",
        "sheet_name = \"NewYork\"\n",
        "url = f\"https://docs.google.com/spreadsheets/d/{sheet_id}/gviz/tq?tqx=out:csv&sheet={sheet_name}\"\n",
        "\n",
        "df = pd.read_csv(url)"
      ],
      "metadata": {
        "id": "0Zs4zKcj6HhF",
        "colab": {
          "base_uri": "https://localhost:8080/"
        },
        "outputId": "a99b4544-1fea-4bfe-8fbc-3679f9b434ee"
      },
      "execution_count": 3,
      "outputs": [
        {
          "output_type": "stream",
          "name": "stderr",
          "text": [
            "/tmp/ipython-input-3-3969885178.py:5: DtypeWarning: Columns (0) have mixed types. Specify dtype option on import or set low_memory=False.\n",
            "  df = pd.read_csv(url)\n"
          ]
        }
      ]
    },
    {
      "cell_type": "markdown",
      "source": [
        "2. Análise de Qualidade dos Dados\n",
        "\n",
        "* Verifique a existencia de valores ausentes e descreva como pretende tratálos\n",
        "* Analise os tipos de variáveis presentes\n",
        "* Faça um resumo estatistico das principais variáveis numéricas utilizando o método .describe() do pandas"
      ],
      "metadata": {
        "id": "ETryBi0y8XFC"
      }
    },
    {
      "cell_type": "code",
      "source": [],
      "metadata": {
        "id": "D2diIn139OE2"
      },
      "execution_count": 2,
      "outputs": []
    },
    {
      "cell_type": "markdown",
      "source": [
        "3. Análise estatistica descritiva dos preços\n",
        "* Calcule as seguintes medidas descritivas da variável preço (price):\n",
        "1. Média\n",
        "2. Mediana\n",
        "3. Desvio padrão\n",
        "4. Min/Máx\n",
        "* Apresente a distribuição dos preços utilizando:\n",
        "1. Histograma\n",
        "2. Boxplot"
      ],
      "metadata": {
        "id": "z_hnkgyk9Obh"
      }
    },
    {
      "cell_type": "code",
      "source": [],
      "metadata": {
        "id": "US3TPmpP969I"
      },
      "execution_count": null,
      "outputs": []
    },
    {
      "cell_type": "markdown",
      "source": [
        "4. Análise de preço por bairro:\n",
        "* Agrupe os dados por bairro (neighborhood) e calcule o preço médio de cada região\n",
        "* Apresente os resultados em formato de tabela\n",
        "* Gere um gráfico de barras horizontal mostrando o preço médio por bairro, ordenando do mais barato para o mais caro"
      ],
      "metadata": {
        "id": "uMeSzHLf97Q9"
      }
    },
    {
      "cell_type": "code",
      "source": [],
      "metadata": {
        "id": "M41_P_Eh-noT"
      },
      "execution_count": null,
      "outputs": []
    },
    {
      "cell_type": "markdown",
      "source": [
        "5. Visualização geográfica\n",
        "* Utilize a biblioteca Folium para criar um mapa interativo da cidade\n",
        "* Plote a localização dos anúncios com base nas coordenadas\n",
        "* Use a cor ou o tamanho dos marcadores para representar a variável preço ou outra variável de interresse\n",
        "* Inclua uma legenda pop-up informativo nos marcadores"
      ],
      "metadata": {
        "id": "lYa4tMdv-n8v"
      }
    },
    {
      "cell_type": "code",
      "source": [],
      "metadata": {
        "id": "0S9OfqrC_Snw"
      },
      "execution_count": null,
      "outputs": []
    },
    {
      "cell_type": "markdown",
      "source": [
        "6. Análise de relação entre variáveis\n",
        "* Escolha pelo menos duas variáveis numéricas além do preço\n",
        "* Explore possíveis relações entre essas variáveis e o preço utilizando:\n",
        "1. Gráfico de dispresão (Scatter plot)\n",
        "2. Mapa de Calor de correlações (Heatmap) com Seaborn"
      ],
      "metadata": {
        "id": "wwW7Fn3U_Thy"
      }
    },
    {
      "cell_type": "code",
      "source": [],
      "metadata": {
        "id": "Q7DkQsec_4SR"
      },
      "execution_count": null,
      "outputs": []
    },
    {
      "cell_type": "markdown",
      "source": [
        "7. Modelagem estatística- Regressão Linear Simples\n",
        "* Escolha uma variável independente para tentar prever o preço dos anúncios.\n",
        "* Construa um modelo de regressão linear simples utilizando o Scikit-learn\n",
        "* Exiba os coeficientes da reta ajustada (intercepto e inclinação)\n",
        "* Plote o gráfico de dispersão com a linha de regressão ajustada\n",
        "* Interprete o resultado: o que o modelo indica sobre a relação entre as variáveis?"
      ],
      "metadata": {
        "id": "aYTf35HP_4os"
      }
    },
    {
      "cell_type": "code",
      "source": [],
      "metadata": {
        "id": "sLnfaeFmCCVN"
      },
      "execution_count": null,
      "outputs": []
    },
    {
      "cell_type": "markdown",
      "source": [
        "8. Visualizações avançadas\n",
        "* Crie pelo menos dois gráfics interativos adcionais usando a biblioteca Ploty.\n",
        "* Exemplos de gráficos:\n",
        "1. Gráfico de dispersão interativo\n",
        "2. Histograma interativo\n",
        "3. Gráfico de mapa com clusterização dos pontos (ClusterMap)\n",
        "* As vizualizações devem permitir ao usuário explorar os dados de maneira intuitiva"
      ],
      "metadata": {
        "id": "UP6WxJeqCCwR"
      }
    },
    {
      "cell_type": "code",
      "source": [],
      "metadata": {
        "id": "mUUzo9ZtCyvg"
      },
      "execution_count": null,
      "outputs": []
    },
    {
      "cell_type": "markdown",
      "source": [
        "9. Conclusões\n",
        "* Escreva um breve texto de conclusão, destacando:\n",
        "1. Principais características da distribuição dos preços na cidade analisada\n",
        "2. Fatores que parecem influenciar o preço (baseado na análise e na regressão)\n",
        "3. Qualquer padrão ou insight interessante encontrado ao longo do trabalho."
      ],
      "metadata": {
        "id": "YlMUqsyYCzG2"
      }
    }
  ]
}