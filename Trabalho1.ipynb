{
  "nbformat": 4,
  "nbformat_minor": 0,
  "metadata": {
    "colab": {
      "provenance": [],
      "toc_visible": true,
      "authorship_tag": "ABX9TyPVtHN9yQ+HNkK4uzmyv3Ha",
      "include_colab_link": true
    },
    "kernelspec": {
      "name": "python3",
      "display_name": "Python 3"
    },
    "language_info": {
      "name": "python"
    }
  },
  "cells": [
    {
      "cell_type": "markdown",
      "metadata": {
        "id": "view-in-github",
        "colab_type": "text"
      },
      "source": [
        "<a href=\"https://colab.research.google.com/github/NathaliaOliveir/CEE2/blob/main/Trabalho1.ipynb\" target=\"_parent\"><img src=\"https://colab.research.google.com/assets/colab-badge.svg\" alt=\"Open In Colab\"/></a>"
      ]
    },
    {
      "cell_type": "markdown",
      "source": [
        "# Trabalho 1: Análise da Taxa SELIC com Python\n",
        "\n",
        "**Curso**: Estatística UnB    \n",
        "**Disciplina**: Computação Estatística 2 em Python    \n",
        "**Aluna**: Nathalia Oliveira Moreira    \n",
        "**Matrícula**: 200042289    \n",
        "**Professora**: José Augusto Fiorucci     \n",
        "**Data de Entrega**: 22 de junho de 2025\n",
        "\n",
        "---\n",
        "\n",
        "## Tema do Trabalho\n",
        "\n",
        "Este relatório tem como objetivo utilizar a linguagem Python para acessar dados reais da Taxa SELIC através da API do Banco Central do Brasil, realizando análises e visualizações que ajudem a compreender o comportamento da economia brasileira ao longo do tempo.\n",
        "\n",
        "---\n",
        "\n",
        "## Introdução\n",
        "\n",
        "A **Taxa SELIC** (Sistema Especial de Liquidação e Custódia) é a taxa básica de juros da economia brasileira, utilizada como principal instrumento de política monetária pelo Banco Central do Brasil. Essa taxa influencia diretamente as demais taxas de juros praticadas no mercado, como as cobradas em empréstimos, financiamentos e aplicações financeiras.\n",
        "\n",
        "Em termos práticos, quando o Banco Central aumenta a SELIC, o objetivo principal é conter a inflação; por outro lado, quando a taxa é reduzida, busca-se estimular a economia, incentivando o consumo e o investimento.\n",
        "\n",
        "Monitorar a evolução da SELIC ao longo do tempo é fundamental para entender o comportamento da economia brasileira, seus ciclos de crescimento e retração, e os impactos sobre a vida da população.\n",
        "\n",
        "Neste relatório, utilizaremos a linguagem Python para acessar dados reais da Taxa SELIC disponibilizados pela API do Banco Central, realizar análises estatísticas e gerar visualizações gráficas.\n"
      ],
      "metadata": {
        "id": "sBYmtbxo2wl4"
      }
    },
    {
      "cell_type": "markdown",
      "source": [
        "# Importação dos dados do Banco Central\n",
        "\n",
        "Para obter os dados da taxa Selic diretamente do Banco Central do Brasil, utiliza-se a função **sgs.get()** da biblioteca bcb.\n",
        "\n",
        "No código, o comando\n",
        "\n",
        " **`data_inicial = '2019-01-01'; selic = sgs.get({'selic': 432}, start=data_inicial)`**\n",
        "\n",
        " Define-se a data inicial da consulta, nesse caso, como 1º de janeiro de 2019, e a função acessa a série histórica de código 432, que corresponde à taxa Selic diária. Os dados retornados vêm em formato de DataFrame, mostrando a data e a taxa selic."
      ],
      "metadata": {
        "id": "C_cowF0gU6c8"
      }
    },
    {
      "cell_type": "code",
      "source": [
        "# @title\n",
        "!pip install mplcyberpunk\n",
        "!pip install python.bcb\n",
        "!pip install matplotlib\n",
        "!pip install pandas\n",
        "!pip install numpy\n",
        "!pip install seaborn;"
      ],
      "metadata": {
        "colab": {
          "base_uri": "https://localhost:8080/",
          "height": 0
        },
        "id": "CUBFB520K8yl",
        "outputId": "afff7bf6-9042-4923-b347-eca4c97f7a53",
        "collapsed": true,
        "cellView": "form"
      },
      "execution_count": 73,
      "outputs": [
        {
          "output_type": "stream",
          "name": "stdout",
          "text": [
            "Requirement already satisfied: mplcyberpunk in /usr/local/lib/python3.11/dist-packages (0.7.6)\n",
            "Requirement already satisfied: matplotlib in /usr/local/lib/python3.11/dist-packages (from mplcyberpunk) (3.10.0)\n",
            "Requirement already satisfied: numpy>1.24.4 in /usr/local/lib/python3.11/dist-packages (from mplcyberpunk) (2.0.2)\n",
            "Requirement already satisfied: contourpy>=1.0.1 in /usr/local/lib/python3.11/dist-packages (from matplotlib->mplcyberpunk) (1.3.2)\n",
            "Requirement already satisfied: cycler>=0.10 in /usr/local/lib/python3.11/dist-packages (from matplotlib->mplcyberpunk) (0.12.1)\n",
            "Requirement already satisfied: fonttools>=4.22.0 in /usr/local/lib/python3.11/dist-packages (from matplotlib->mplcyberpunk) (4.58.4)\n",
            "Requirement already satisfied: kiwisolver>=1.3.1 in /usr/local/lib/python3.11/dist-packages (from matplotlib->mplcyberpunk) (1.4.8)\n",
            "Requirement already satisfied: packaging>=20.0 in /usr/local/lib/python3.11/dist-packages (from matplotlib->mplcyberpunk) (24.2)\n",
            "Requirement already satisfied: pillow>=8 in /usr/local/lib/python3.11/dist-packages (from matplotlib->mplcyberpunk) (11.2.1)\n",
            "Requirement already satisfied: pyparsing>=2.3.1 in /usr/local/lib/python3.11/dist-packages (from matplotlib->mplcyberpunk) (3.2.3)\n",
            "Requirement already satisfied: python-dateutil>=2.7 in /usr/local/lib/python3.11/dist-packages (from matplotlib->mplcyberpunk) (2.9.0.post0)\n",
            "Requirement already satisfied: six>=1.5 in /usr/local/lib/python3.11/dist-packages (from python-dateutil>=2.7->matplotlib->mplcyberpunk) (1.17.0)\n",
            "Requirement already satisfied: python.bcb in /usr/local/lib/python3.11/dist-packages (0.3.3)\n",
            "Requirement already satisfied: httpx>=0.24.0 in /usr/local/lib/python3.11/dist-packages (from python.bcb) (0.28.1)\n",
            "Requirement already satisfied: lxml>=4.9.2 in /usr/local/lib/python3.11/dist-packages (from python.bcb) (5.4.0)\n",
            "Requirement already satisfied: pandas>=2.0.0 in /usr/local/lib/python3.11/dist-packages (from python.bcb) (2.2.2)\n",
            "Requirement already satisfied: requests>=2.31.0 in /usr/local/lib/python3.11/dist-packages (from python.bcb) (2.32.3)\n",
            "Requirement already satisfied: anyio in /usr/local/lib/python3.11/dist-packages (from httpx>=0.24.0->python.bcb) (4.9.0)\n",
            "Requirement already satisfied: certifi in /usr/local/lib/python3.11/dist-packages (from httpx>=0.24.0->python.bcb) (2025.6.15)\n",
            "Requirement already satisfied: httpcore==1.* in /usr/local/lib/python3.11/dist-packages (from httpx>=0.24.0->python.bcb) (1.0.9)\n",
            "Requirement already satisfied: idna in /usr/local/lib/python3.11/dist-packages (from httpx>=0.24.0->python.bcb) (3.10)\n",
            "Requirement already satisfied: h11>=0.16 in /usr/local/lib/python3.11/dist-packages (from httpcore==1.*->httpx>=0.24.0->python.bcb) (0.16.0)\n",
            "Requirement already satisfied: numpy>=1.23.2 in /usr/local/lib/python3.11/dist-packages (from pandas>=2.0.0->python.bcb) (2.0.2)\n",
            "Requirement already satisfied: python-dateutil>=2.8.2 in /usr/local/lib/python3.11/dist-packages (from pandas>=2.0.0->python.bcb) (2.9.0.post0)\n",
            "Requirement already satisfied: pytz>=2020.1 in /usr/local/lib/python3.11/dist-packages (from pandas>=2.0.0->python.bcb) (2025.2)\n",
            "Requirement already satisfied: tzdata>=2022.7 in /usr/local/lib/python3.11/dist-packages (from pandas>=2.0.0->python.bcb) (2025.2)\n",
            "Requirement already satisfied: charset-normalizer<4,>=2 in /usr/local/lib/python3.11/dist-packages (from requests>=2.31.0->python.bcb) (3.4.2)\n",
            "Requirement already satisfied: urllib3<3,>=1.21.1 in /usr/local/lib/python3.11/dist-packages (from requests>=2.31.0->python.bcb) (2.4.0)\n",
            "Requirement already satisfied: six>=1.5 in /usr/local/lib/python3.11/dist-packages (from python-dateutil>=2.8.2->pandas>=2.0.0->python.bcb) (1.17.0)\n",
            "Requirement already satisfied: sniffio>=1.1 in /usr/local/lib/python3.11/dist-packages (from anyio->httpx>=0.24.0->python.bcb) (1.3.1)\n",
            "Requirement already satisfied: typing_extensions>=4.5 in /usr/local/lib/python3.11/dist-packages (from anyio->httpx>=0.24.0->python.bcb) (4.14.0)\n",
            "Requirement already satisfied: matplotlib in /usr/local/lib/python3.11/dist-packages (3.10.0)\n",
            "Requirement already satisfied: contourpy>=1.0.1 in /usr/local/lib/python3.11/dist-packages (from matplotlib) (1.3.2)\n",
            "Requirement already satisfied: cycler>=0.10 in /usr/local/lib/python3.11/dist-packages (from matplotlib) (0.12.1)\n",
            "Requirement already satisfied: fonttools>=4.22.0 in /usr/local/lib/python3.11/dist-packages (from matplotlib) (4.58.4)\n",
            "Requirement already satisfied: kiwisolver>=1.3.1 in /usr/local/lib/python3.11/dist-packages (from matplotlib) (1.4.8)\n",
            "Requirement already satisfied: numpy>=1.23 in /usr/local/lib/python3.11/dist-packages (from matplotlib) (2.0.2)\n",
            "Requirement already satisfied: packaging>=20.0 in /usr/local/lib/python3.11/dist-packages (from matplotlib) (24.2)\n",
            "Requirement already satisfied: pillow>=8 in /usr/local/lib/python3.11/dist-packages (from matplotlib) (11.2.1)\n",
            "Requirement already satisfied: pyparsing>=2.3.1 in /usr/local/lib/python3.11/dist-packages (from matplotlib) (3.2.3)\n",
            "Requirement already satisfied: python-dateutil>=2.7 in /usr/local/lib/python3.11/dist-packages (from matplotlib) (2.9.0.post0)\n",
            "Requirement already satisfied: six>=1.5 in /usr/local/lib/python3.11/dist-packages (from python-dateutil>=2.7->matplotlib) (1.17.0)\n",
            "Requirement already satisfied: pandas in /usr/local/lib/python3.11/dist-packages (2.2.2)\n",
            "Requirement already satisfied: numpy>=1.23.2 in /usr/local/lib/python3.11/dist-packages (from pandas) (2.0.2)\n",
            "Requirement already satisfied: python-dateutil>=2.8.2 in /usr/local/lib/python3.11/dist-packages (from pandas) (2.9.0.post0)\n",
            "Requirement already satisfied: pytz>=2020.1 in /usr/local/lib/python3.11/dist-packages (from pandas) (2025.2)\n",
            "Requirement already satisfied: tzdata>=2022.7 in /usr/local/lib/python3.11/dist-packages (from pandas) (2025.2)\n",
            "Requirement already satisfied: six>=1.5 in /usr/local/lib/python3.11/dist-packages (from python-dateutil>=2.8.2->pandas) (1.17.0)\n",
            "Requirement already satisfied: numpy in /usr/local/lib/python3.11/dist-packages (2.0.2)\n",
            "Requirement already satisfied: seaborn in /usr/local/lib/python3.11/dist-packages (0.13.2)\n",
            "Requirement already satisfied: numpy!=1.24.0,>=1.20 in /usr/local/lib/python3.11/dist-packages (from seaborn) (2.0.2)\n",
            "Requirement already satisfied: pandas>=1.2 in /usr/local/lib/python3.11/dist-packages (from seaborn) (2.2.2)\n",
            "Requirement already satisfied: matplotlib!=3.6.1,>=3.4 in /usr/local/lib/python3.11/dist-packages (from seaborn) (3.10.0)\n",
            "Requirement already satisfied: contourpy>=1.0.1 in /usr/local/lib/python3.11/dist-packages (from matplotlib!=3.6.1,>=3.4->seaborn) (1.3.2)\n",
            "Requirement already satisfied: cycler>=0.10 in /usr/local/lib/python3.11/dist-packages (from matplotlib!=3.6.1,>=3.4->seaborn) (0.12.1)\n",
            "Requirement already satisfied: fonttools>=4.22.0 in /usr/local/lib/python3.11/dist-packages (from matplotlib!=3.6.1,>=3.4->seaborn) (4.58.4)\n",
            "Requirement already satisfied: kiwisolver>=1.3.1 in /usr/local/lib/python3.11/dist-packages (from matplotlib!=3.6.1,>=3.4->seaborn) (1.4.8)\n",
            "Requirement already satisfied: packaging>=20.0 in /usr/local/lib/python3.11/dist-packages (from matplotlib!=3.6.1,>=3.4->seaborn) (24.2)\n",
            "Requirement already satisfied: pillow>=8 in /usr/local/lib/python3.11/dist-packages (from matplotlib!=3.6.1,>=3.4->seaborn) (11.2.1)\n",
            "Requirement already satisfied: pyparsing>=2.3.1 in /usr/local/lib/python3.11/dist-packages (from matplotlib!=3.6.1,>=3.4->seaborn) (3.2.3)\n",
            "Requirement already satisfied: python-dateutil>=2.7 in /usr/local/lib/python3.11/dist-packages (from matplotlib!=3.6.1,>=3.4->seaborn) (2.9.0.post0)\n",
            "Requirement already satisfied: pytz>=2020.1 in /usr/local/lib/python3.11/dist-packages (from pandas>=1.2->seaborn) (2025.2)\n",
            "Requirement already satisfied: tzdata>=2022.7 in /usr/local/lib/python3.11/dist-packages (from pandas>=1.2->seaborn) (2025.2)\n",
            "Requirement already satisfied: six>=1.5 in /usr/local/lib/python3.11/dist-packages (from python-dateutil>=2.7->matplotlib!=3.6.1,>=3.4->seaborn) (1.17.0)\n"
          ]
        }
      ]
    },
    {
      "cell_type": "code",
      "source": [
        "# @title\n",
        "import matplotlib as mpl\n",
        "import mplcyberpunk\n",
        "from bcb import currency\n",
        "from bcb import sgs\n",
        "import matplotlib.pyplot as plt\n",
        "import matplotlib.ticker as mtick\n",
        "import matplotlib.dates as mdates\n",
        "from matplotlib.dates import date2num\n",
        "from datetime import datetime\n",
        "from datetime import timedelta\n",
        "import pandas as pd\n",
        "\n",
        "plt.style.use(\"default\")"
      ],
      "metadata": {
        "id": "ydB7iffOWc5O",
        "cellView": "form"
      },
      "execution_count": 76,
      "outputs": []
    },
    {
      "cell_type": "code",
      "source": [
        "# @title\n",
        "\n",
        "data_inicial = '2019-01-01'\n",
        "selic = sgs.get({'selic': 432}, start=data_inicial)"
      ],
      "metadata": {
        "id": "EdICGZpeZVQp",
        "cellView": "form"
      },
      "execution_count": 78,
      "outputs": []
    },
    {
      "cell_type": "markdown",
      "source": [
        "# Calculos das Taxas\n",
        "\n",
        "Agora, com a taxa diária definida, podemos criar novas colunas para organizar os dados de forma clara: uma para a taxa diária, outra para a taxa anual equivalente e uma terceira para a taxa acumulada ao longo do período.\n",
        "\n",
        "Para isso, pode-se aplicar a fórmula:\n",
        "  \n",
        " **Taxa anual = (1 + Taxa diaria)^252 - 1**\n",
        "\n",
        " Para converter a taxa diária em taxa anual equivalente, assumindo 252 dias úteis\n",
        "\n",
        " Depois, para a taxa acumulada usamos a formula:\n",
        "\n",
        "**Taxa acumulada = ∏(1+Taxa diaria)-1**\n",
        "\n",
        "que calcula o rendimento total dia após dia.\n",
        "\n",
        "E por fim, teremos um danco de dados apresentando essas 3 informações exibidas lado a lado com a data."
      ],
      "metadata": {
        "id": "e0yRJ2S4ewIb"
      }
    },
    {
      "cell_type": "code",
      "source": [
        "# @title\n",
        "\n",
        "selic['SELIC Anual (%)'] = selic['selic']\n",
        "selic['SELIC Diaria (%)'] = (1 + selic['SELIC Anual (%)'] / 100) ** (1 / 252) - 1\n",
        "selic['SELIC Acumulada (%)'] = (1 + selic['SELIC Diaria (%)']).cumprod() - 1\n",
        "\n",
        "print(selic.head())"
      ],
      "metadata": {
        "colab": {
          "base_uri": "https://localhost:8080/",
          "height": 0
        },
        "cellView": "form",
        "id": "9St7lZ9EShOv",
        "outputId": "8d05a195-f5e5-4dcd-f612-aabb5b409592"
      },
      "execution_count": 79,
      "outputs": [
        {
          "output_type": "stream",
          "name": "stdout",
          "text": [
            "            selic  SELIC Anual (%)  SELIC Diaria (%)  SELIC Acumulada (%)\n",
            "Date                                                                     \n",
            "2019-01-01    6.5              6.5           0.00025              0.00025\n",
            "2019-01-02    6.5              6.5           0.00025              0.00050\n",
            "2019-01-03    6.5              6.5           0.00025              0.00075\n",
            "2019-01-04    6.5              6.5           0.00025              0.00100\n",
            "2019-01-05    6.5              6.5           0.00025              0.00125\n"
          ]
        }
      ]
    },
    {
      "cell_type": "code",
      "source": [
        "# @title\n",
        "selic.index = pd.to_datetime(selic.index, format='%d/%m/%Y')"
      ],
      "metadata": {
        "cellView": "form",
        "id": "yDaT9J_9K9NM"
      },
      "execution_count": 80,
      "outputs": []
    },
    {
      "cell_type": "markdown",
      "source": [
        "# Gráficos\n",
        "Para melhor visualização, foram plotados 3 graficos mostrando a variação dos valores das 3 series"
      ],
      "metadata": {
        "id": "Mrptf4UiiviL"
      }
    },
    {
      "cell_type": "code",
      "source": [
        "# @title\n",
        "\n",
        "fig, axs = plt.subplots(3, 1, figsize=(6, 5), sharex=True)\n",
        "\n",
        "axs[0].plot(selic.index, selic['SELIC Diaria (%)'], color= 'yellow')\n",
        "axs[0].set_title('SELIC Diaria (%)')\n",
        "axs[0].grid(True)\n",
        "\n",
        "axs[1].plot(selic.index, selic['SELIC Anual (%)'], color='blue')\n",
        "axs[1].set_title('SELIC Anual (%)')\n",
        "axs[1].grid(True)\n",
        "\n",
        "axs[2].plot(selic.index, selic['SELIC Acumulada (%)'], color='green')\n",
        "axs[2].set_title('SELIC Acumulada (%)')\n",
        "axs[2].set_xlabel('Data')\n",
        "axs[2].grid(True)\n",
        "\n",
        "plt.tight_layout()\n",
        "plt.show()"
      ],
      "metadata": {
        "colab": {
          "base_uri": "https://localhost:8080/",
          "height": 506
        },
        "cellView": "form",
        "id": "LRTZsgj2Lehd",
        "outputId": "98954c5c-7deb-460f-f620-68d900b54bdc"
      },
      "execution_count": 86,
      "outputs": [
        {
          "output_type": "display_data",
          "data": {
            "text/plain": [
              "<Figure size 600x500 with 3 Axes>"
            ],
            "image/png": "[encoded data removed]"
          },
          "metadata": {}
        }
      ]
    },
    {
      "cell_type": "markdown",
      "source": [
        "# Resultados Maximo e Mínimo\n",
        "Com  banco de dados formado, é possivel usar as funções\n",
        "```idxmax e idmin ```\n",
        "para ver os períodos com as maiors taxa de juros.\n"
      ],
      "metadata": {
        "id": "FS1hanZOjpeG"
      }
    },
    {
      "cell_type": "code",
      "source": [
        "# @title\n",
        "# Encontrando o período com maior e menor SELIC Anual tentativa 3\n",
        "maior_taxa = selic['SELIC Anual (%)'].idxmax()\n",
        "menor_taxa = selic['SELIC Anual (%)'].idxmin()\n",
        "valor_maior = selic.loc[maior_taxa, 'SELIC Anual (%)']\n",
        "valor_menor = selic.loc[menor_taxa, 'SELIC Anual (%)']\n",
        "\n",
        "#print\n",
        "print(f\"O período com a maior taxa de juros (anual) foi em {maior_taxa.strftime('%d/%m/%Y')}, com taxa de {valor_maior:.2f}% a.a.\")\n",
        "print(f\"O período com a menor taxa de juros (anual) foi em {menor_taxa.strftime('%d/%m/%Y')}, com taxa de {valor_menor:.2f}% a.a.\")"
      ],
      "metadata": {
        "colab": {
          "base_uri": "https://localhost:8080/",
          "height": 0
        },
        "cellView": "form",
        "id": "lGpcahmSLmgT",
        "outputId": "32d03a79-d433-42b2-fe36-47920fb92f7f"
      },
      "execution_count": 83,
      "outputs": [
        {
          "output_type": "stream",
          "name": "stdout",
          "text": [
            "O período com a maior taxa de juros (anual) foi em 19/06/2025, com taxa de 15.00% a.a.\n",
            "O período com a menor taxa de juros (anual) foi em 06/08/2020, com taxa de 2.00% a.a.\n"
          ]
        }
      ]
    },
    {
      "cell_type": "markdown",
      "source": [
        "# Simulação\n",
        "\n",
        "Com os dados bem defiinidos, podemos fazer uma simulação de um investimento com base na selic diária por meio de uma função. Nesse exemplo foi imaginado um investimento diario de 100 reais definido no parametro ```aporte```.Apos o calculo, o codigo nos retorna uma tabela com a data e o valor acumulado até o dia, como segue no exemplo:"
      ],
      "metadata": {
        "id": "5hokjw7FjPkR"
      }
    },
    {
      "cell_type": "code",
      "source": [
        "# @title\n",
        "import numpy as np\n",
        "import pandas as pd\n",
        "\n",
        "def simula_investimento_recorrente_rapido(selic, aporte_diario):\n",
        "    \"\"\"\n",
        "    selic: DataFrame com índice datetime e coluna 'SELIC Diaria (%)' em decimal\n",
        "    aporte_diario: valor fixo aportado todo dia\n",
        "\n",
        "    Retorna DataFrame com coluna 'Valor Acumulado' simulando o saldo diário.\n",
        "    \"\"\"\n",
        "    selic_diaria = selic['SELIC Diaria (%)'].values\n",
        "    n = len(selic_diaria)\n",
        "\n",
        "    # Calcular fator diário (1 + taxa)\n",
        "    fatores = 1 + selic_diaria\n",
        "\n",
        "    # Calcular fator acumulado reverso: para cada dia i, qual o produto dos fatores de i até o último dia\n",
        "    # Isso diz quanto um aporte feito no dia i rende até o último dia.\n",
        "    fator_acumulado_reverso = np.ones(n)\n",
        "    fator_acumulado_reverso[-1] = fatores[-1]\n",
        "    for i in range(n - 2, -1, -1):\n",
        "        fator_acumulado_reverso[i] = fator_acumulado_reverso[i + 1] * fatores[i]\n",
        "\n",
        "    # Agora somamos o valor futuro de cada aporte para cada dia.\n",
        "    # O saldo no dia k é a soma dos aportes dos dias 0 até k, cada um acumulado do dia do aporte até o dia k.\n",
        "    # Para isso, criamos uma matriz triangular inferior de fatores acumulados\n",
        "\n",
        "    # Uma forma eficiente: o saldo no dia k é a soma dos aportes multiplicados pelo fator acumulado do aporte até o dia k.\n",
        "    # Mas calcular isso diretamente pode ser lento, então vamos usar a ideia:\n",
        "    # saldo[k] = aporte * sum_{i=0}^{k} prod_{j=i}^{k} (1 + taxa_j)\n",
        "\n",
        "    # Podemos usar a matriz triangular, mas é pesado. Melhor: calcular acumulado progressivo e fazer soma incremental\n",
        "\n",
        "    # Primeiro, calcular produto acumulado progressivo:\n",
        "    prod_acum = np.cumprod(fatores)\n",
        "\n",
        "    # saldo no dia k = aporte * sum_{i=0}^{k} (prod_{j=i}^{k} (1+taxa_j))\n",
        "    # = aporte * sum_{i=0}^{k} (prod_acum[k] / prod_acum[i-1])  (com prod_acum[-1] = 1 para i=0)\n",
        "\n",
        "    saldo = np.zeros(n)\n",
        "    for k in range(n):\n",
        "        soma = 0\n",
        "        for i in range(k+1):\n",
        "            if i == 0:\n",
        "                fator = prod_acum[k]\n",
        "            else:\n",
        "                fator = prod_acum[k] / prod_acum[i-1]\n",
        "            soma += fator\n",
        "        saldo[k] = aporte_diario * soma\n",
        "\n",
        "    resultado = pd.DataFrame(data=saldo, index=selic.index, columns=['Valor Acumulado'])\n",
        "    return resultado\n"
      ],
      "metadata": {
        "cellView": "form",
        "id": "SkO6K3CuL9YA"
      },
      "execution_count": 82,
      "outputs": []
    },
    {
      "cell_type": "code",
      "source": [
        "# @title\n",
        "aporte = 100\n",
        "resultado = simula_investimento_recorrente_rapido(selic, aporte)\n",
        "print(resultado.head())"
      ],
      "metadata": {
        "colab": {
          "base_uri": "https://localhost:8080/",
          "height": 0
        },
        "cellView": "form",
        "id": "ULv5iMCdMGEv",
        "outputId": "b0e16d73-7b22-437a-c486-27ad5b750e3d"
      },
      "execution_count": 72,
      "outputs": [
        {
          "output_type": "stream",
          "name": "stdout",
          "text": [
            "            Valor Acumulado\n",
            "Date                       \n",
            "2019-01-01       100.024993\n",
            "2019-01-02       200.074986\n",
            "2019-01-03       300.149984\n",
            "2019-01-04       400.249994\n",
            "2019-01-05       500.375022\n"
          ]
        }
      ]
    },
    {
      "cell_type": "markdown",
      "source": [
        "# Conclusão\n",
        "\n",
        "Com este trabalho, conseguimos entender melhor como a Taxa SELIC muda ao longo do tempo e como ela influencia a economia. Usando Python, buscamos os dados, calculamos diferentes formas de ver a taxa e fizemos gráficos que ajudam a visualizar essas mudanças. Também simulamos um investimento para ver, na prática, como a taxa afeta o rendimento. Foi uma forma prática e interessante de aprender sobre economia e programação ao mesmo tempo."
      ],
      "metadata": {
        "id": "O6SyDYjvl-30"
      }
    }
  ]
}