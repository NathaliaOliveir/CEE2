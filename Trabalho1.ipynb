{
  "nbformat": 4,
  "nbformat_minor": 0,
  "metadata": {
    "colab": {
      "provenance": [],
      "authorship_tag": "ABX9TyPvnfmW+ZxQZExWYmJ9ZYvX",
      "include_colab_link": true
    },
    "kernelspec": {
      "name": "python3",
      "display_name": "Python 3"
    },
    "language_info": {
      "name": "python"
    }
  },
  "cells": [
    {
      "cell_type": "markdown",
      "metadata": {
        "id": "view-in-github",
        "colab_type": "text"
      },
      "source": [
        "<a href=\"https://colab.research.google.com/github/NathaliaOliveir/CEE2/blob/main/Trabalho1.ipynb\" target=\"_parent\"><img src=\"https://colab.research.google.com/assets/colab-badge.svg\" alt=\"Open In Colab\"/></a>"
      ]
    },
    {
      "cell_type": "markdown",
      "source": [
        "# Trabalho 1: Análise da Taxa SELIC com Python\n",
        "\n",
        "**Curso**: Estatística UnB    \n",
        "**Disciplina**: Computação Estatística 2 em Python    \n",
        "**Aluna**: Nathalia Oliveira Moreira    \n",
        "**Matrícula**: 200042289    \n",
        "**Professora**: José Augusto Fiorucci     \n",
        "**Data de Entrega**: 22 de junho de 2025\n",
        "\n",
        "---\n",
        "\n",
        "## Tema do Trabalho\n",
        "\n",
        "Este relatório tem como objetivo utilizar a linguagem Python para acessar dados reais da Taxa SELIC através da API do Banco Central do Brasil, realizando análises e visualizações que ajudem a compreender o comportamento da economia brasileira ao longo do tempo.\n",
        "\n",
        "---\n",
        "\n",
        "## Introdução\n",
        "\n",
        "A **Taxa SELIC** (Sistema Especial de Liquidação e Custódia) é a taxa básica de juros da economia brasileira, utilizada como principal instrumento de política monetária pelo Banco Central do Brasil. Essa taxa influencia diretamente as demais taxas de juros praticadas no mercado, como as cobradas em empréstimos, financiamentos e aplicações financeiras.\n",
        "\n",
        "Em termos práticos, quando o Banco Central aumenta a SELIC, o objetivo principal é conter a inflação; por outro lado, quando a taxa é reduzida, busca-se estimular a economia, incentivando o consumo e o investimento.\n",
        "\n",
        "Monitorar a evolução da SELIC ao longo do tempo é fundamental para entender o comportamento da economia brasileira, seus ciclos de crescimento e retração, e os impactos sobre a vida da população.\n",
        "\n",
        "Neste relatório, utilizaremos a linguagem Python para acessar dados reais da Taxa SELIC disponibilizados pela API do Banco Central, realizar análises estatísticas e gerar visualizações gráficas.\n"
      ],
      "metadata": {
        "id": "sBYmtbxo2wl4"
      }
    },
    {
      "cell_type": "code",
      "source": [],
      "metadata": {
        "id": "ydB7iffOWc5O"
      },
      "execution_count": null,
      "outputs": []
    }
  ]
}